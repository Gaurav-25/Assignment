{
 "cells": [
  {
   "cell_type": "code",
   "execution_count": 86,
   "id": "1de7f768",
   "metadata": {},
   "outputs": [],
   "source": [
    "def func1():\n",
    "    print('I am a Function')"
   ]
  },
  {
   "cell_type": "code",
   "execution_count": 26,
   "id": "704be22c",
   "metadata": {},
   "outputs": [
    {
     "name": "stdout",
     "output_type": "stream",
     "text": [
      "I am a Function\n",
      "None\n"
     ]
    }
   ],
   "source": [
    " print(func1())"
   ]
  },
  {
   "cell_type": "code",
   "execution_count": 80,
   "id": "ffe11791",
   "metadata": {},
   "outputs": [
    {
     "name": "stdout",
     "output_type": "stream",
     "text": [
      "x is less than y\n"
     ]
    }
   ],
   "source": [
    "x=5\n",
    "y=20\n",
    "if (x<y):\n",
    "    st=\"x is less than y\"\n",
    "else:\n",
    "    st= \"x is greater than y\"\n",
    "print(st)"
   ]
  },
  {
   "cell_type": "code",
   "execution_count": 84,
   "id": "0660bc05",
   "metadata": {},
   "outputs": [
    {
     "name": "stdout",
     "output_type": "stream",
     "text": [
      "0\n",
      "1\n",
      "2\n",
      "3\n",
      "4\n"
     ]
    }
   ],
   "source": [
    "x=0\n",
    "while (x<5):\n",
    "    print(x)\n",
    "    x=x+1\n"
   ]
  },
  {
   "cell_type": "code",
   "execution_count": 73,
   "id": "4a6a42fe",
   "metadata": {},
   "outputs": [
    {
     "name": "stdout",
     "output_type": "stream",
     "text": [
      "mon\n",
      "tue\n",
      "wed\n",
      "thu\n",
      "fri\n",
      "sat\n",
      "sun\n"
     ]
    }
   ],
   "source": [
    "days=['mon','tue','wed','thu','fri','sat','sun']\n",
    "for d in days:\n",
    "\n",
    "    print(d)"
   ]
  },
  {
   "cell_type": "code",
   "execution_count": 74,
   "id": "d3a16f6a",
   "metadata": {},
   "outputs": [
    {
     "name": "stdout",
     "output_type": "stream",
     "text": [
      "5\n",
      "6\n",
      "7\n",
      "8\n",
      "9\n",
      "10\n",
      "11\n",
      "12\n",
      "13\n",
      "14\n",
      "15\n",
      "16\n",
      "17\n",
      "18\n",
      "19\n"
     ]
    }
   ],
   "source": [
    "for x in range (5,20):\n",
    "    print(x)"
   ]
  },
  {
   "cell_type": "code",
   "execution_count": 77,
   "id": "d46ba6b2",
   "metadata": {},
   "outputs": [
    {
     "name": "stdout",
     "output_type": "stream",
     "text": [
      "5\n",
      "6\n",
      "7\n",
      "8\n",
      "9\n",
      "10\n",
      "11\n",
      "12\n",
      "13\n",
      "14\n",
      "15\n",
      "16\n"
     ]
    }
   ],
   "source": [
    "for x in range(5,20):\n",
    "    if (x == 17): break\n",
    "    print(x)"
   ]
  },
  {
   "cell_type": "code",
   "execution_count": 88,
   "id": "06696bdc",
   "metadata": {},
   "outputs": [],
   "source": [
    "import math"
   ]
  },
  {
   "cell_type": "code",
   "execution_count": 89,
   "id": "09dfe712",
   "metadata": {},
   "outputs": [
    {
     "name": "stdout",
     "output_type": "stream",
     "text": [
      "PI is 3.141592653589793\n"
     ]
    }
   ],
   "source": [
    "print ('PI is', math.pi)"
   ]
  },
  {
   "cell_type": "code",
   "execution_count": 90,
   "id": "002793f9",
   "metadata": {},
   "outputs": [
    {
     "name": "stdout",
     "output_type": "stream",
     "text": [
      "The square root of 25 is 5.0\n"
     ]
    }
   ],
   "source": [
    "print ('The square root of 25 is', math.sqrt(25))"
   ]
  },
  {
   "cell_type": "code",
   "execution_count": 91,
   "id": "1a40fe4e",
   "metadata": {},
   "outputs": [],
   "source": [
    "from datetime import date\n",
    "from datetime import time\n",
    "from datetime import datetime"
   ]
  },
  {
   "cell_type": "code",
   "execution_count": 92,
   "id": "d3fe2e1d",
   "metadata": {},
   "outputs": [
    {
     "name": "stdout",
     "output_type": "stream",
     "text": [
      "Today's date is 2021-09-07\n"
     ]
    }
   ],
   "source": [
    "today=date.today()\n",
    "print(\"Today's date is\", today)"
   ]
  },
  {
   "cell_type": "code",
   "execution_count": 95,
   "id": "e61cb97e",
   "metadata": {},
   "outputs": [
    {
     "name": "stdout",
     "output_type": "stream",
     "text": [
      "Date component: 7 9 2021\n"
     ]
    }
   ],
   "source": [
    "print(\"Date component:\", today.day, today.month, today.year)"
   ]
  },
  {
   "cell_type": "code",
   "execution_count": 96,
   "id": "2ed57fad",
   "metadata": {},
   "outputs": [
    {
     "name": "stdout",
     "output_type": "stream",
     "text": [
      "Today's week day # is 1\n"
     ]
    }
   ],
   "source": [
    "print(\"Today's week day # is\", today.weekday())"
   ]
  },
  {
   "cell_type": "code",
   "execution_count": 97,
   "id": "c2fdb308",
   "metadata": {},
   "outputs": [
    {
     "name": "stdout",
     "output_type": "stream",
     "text": [
      "Today's week day # is 1\n",
      "Which is a: Tue\n"
     ]
    }
   ],
   "source": [
    "print(\"Today's week day # is\", today.weekday())\n",
    "days=['Mon','Tue','Wed','Thu','Fri','Sat','Sun']\n",
    "print('Which is a:', days[today.weekday()])"
   ]
  },
  {
   "cell_type": "code",
   "execution_count": 98,
   "id": "91ad5fd8",
   "metadata": {},
   "outputs": [
    {
     "name": "stdout",
     "output_type": "stream",
     "text": [
      "Current time is 2021-09-07 15:47:32.667575\n"
     ]
    }
   ],
   "source": [
    "today=datetime.now()\n",
    "print('Current time is', today)"
   ]
  },
  {
   "cell_type": "code",
   "execution_count": 99,
   "id": "ef919d20",
   "metadata": {},
   "outputs": [
    {
     "name": "stdout",
     "output_type": "stream",
     "text": [
      "4\n"
     ]
    }
   ],
   "source": [
    "def inc(a,b=1):\n",
    "    return(a+b)\n",
    "a=inc(1)\n",
    "a=inc(a,a)\n",
    "print(a)"
   ]
  },
  {
   "cell_type": "code",
   "execution_count": null,
   "id": "bbd41e5f",
   "metadata": {},
   "outputs": [],
   "source": []
  }
 ],
 "metadata": {
  "kernelspec": {
   "display_name": "Python 3",
   "language": "python",
   "name": "python3"
  },
  "language_info": {
   "codemirror_mode": {
    "name": "ipython",
    "version": 3
   },
   "file_extension": ".py",
   "mimetype": "text/x-python",
   "name": "python",
   "nbconvert_exporter": "python",
   "pygments_lexer": "ipython3",
   "version": "3.8.8"
  }
 },
 "nbformat": 4,
 "nbformat_minor": 5
}
